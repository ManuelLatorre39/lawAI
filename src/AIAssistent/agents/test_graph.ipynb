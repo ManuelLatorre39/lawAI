{
 "cells": [
  {
   "cell_type": "code",
   "execution_count": 3,
   "id": "cd445573",
   "metadata": {},
   "outputs": [
    {
     "name": "stderr",
     "output_type": "stream",
     "text": [
      "c:\\Users\\Santiago\\Desktop\\Cosas de Santi v3\\research\\law-ai\\lawAI\\src\\AIAssistent\\agents\\reader_agent.py:30: LangChainDeprecationWarning: The class `ChatOllama` was deprecated in LangChain 0.3.1 and will be removed in 1.0.0. An updated version of the class exists in the :class:`~langchain-ollama package and should be used instead. To use it run `pip install -U :class:`~langchain-ollama` and import as `from :class:`~langchain_ollama import ChatOllama``.\n",
      "  llm = ChatOllama(model=\"llama2\", temperature=0)  # or \"llama2-13b\"\n",
      "c:\\Users\\Santiago\\Desktop\\Cosas de Santi v3\\research\\law-ai\\lawAI\\src\\AIAssistent\\agents\\reader_agent.py:38: LangChainDeprecationWarning: The method `BaseChatModel.predict` was deprecated in langchain-core 0.1.7 and will be removed in 1.0. Use :meth:`~invoke` instead.\n",
      "  answer = llm.predict(prompt)\n"
     ]
    },
    {
     "name": "stdout",
     "output_type": "stream",
     "text": [
      "La resolución del caso fue \"Se otorga la tenencia exclusiva a la Sra. Ana Martínez\".\n"
     ]
    }
   ],
   "source": [
    "from build_graph import legal_graph\n",
    "\n",
    "# Initialize state\n",
    "initial_state = {\n",
    "    \"query\": \"¿Cuál fue la resolución del caso?\",\n",
    "    \"context\": \"\",\n",
    "    \"answer\": \"\",\n",
    "    \"route\": \"\"\n",
    "}\n",
    "\n",
    "# Invoke the graph\n",
    "final_state = legal_graph.invoke(initial_state)\n",
    "\n",
    "# Print the answer from LLM\n",
    "print(final_state[\"answer\"])"
   ]
  }
 ],
 "metadata": {
  "kernelspec": {
   "display_name": ".venv",
   "language": "python",
   "name": "python3"
  },
  "language_info": {
   "codemirror_mode": {
    "name": "ipython",
    "version": 3
   },
   "file_extension": ".py",
   "mimetype": "text/x-python",
   "name": "python",
   "nbconvert_exporter": "python",
   "pygments_lexer": "ipython3",
   "version": "3.11.5"
  }
 },
 "nbformat": 4,
 "nbformat_minor": 5
}
