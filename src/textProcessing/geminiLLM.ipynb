{
 "cells": [
  {
   "cell_type": "code",
   "execution_count": null,
   "id": "f039bcb0",
   "metadata": {},
   "outputs": [],
   "source": [
    "from google import genai\n",
    "from dotenv import load_dotenv\n",
    "import os\n",
    "import json"
   ]
  },
  {
   "cell_type": "code",
   "execution_count": null,
   "id": "597f2a95",
   "metadata": {},
   "outputs": [],
   "source": [
    "def get_gemini_client():\n",
    "    load_dotenv()\n",
    "    client = genai.Client()\n",
    "    return client"
   ]
  },
  {
   "cell_type": "code",
   "execution_count": null,
   "id": "675edfae",
   "metadata": {},
   "outputs": [],
   "source": [
    "def get_json_context(path_schema):\n",
    "    #read schema\n",
    "    with open(path_schema, 'r', encoding='utf-8') as f:\n",
    "        context_data = json.load(f)\n",
    "        context_str = json.dumps(context_data) #convert to string well formatted\n",
    "        context_str = \"**JSON SCHEMA TO FOLLOW:**\\n\" + context_str\n",
    "    return context_str"
   ]
  },
  {
   "cell_type": "code",
   "execution_count": null,
   "id": "50508f64",
   "metadata": {},
   "outputs": [
    {
     "name": "stdout",
     "output_type": "stream",
     "text": [
      "Prompt Template:\n",
      "You are an expert legal document analysis AI. Your task is to analyze the provided legal document and generate a single, complete JSON object based on the structure and constraints defined in the JSON schema below.\n",
      "\n",
      "**KEY INSTRUCTIONS:**\n",
      "1.  **Strict Schema Adherence:** The generated JSON must strictly follow the provided JSON schema.\n",
      "2.  **Spanish Language for Values:** All string values, enumerations, and content within the JSON output **MUST** be in Spanish. This includes summaries, extracted entities, and any textual content.\n",
      "3.  **JSON-Only Response:** Your entire response must be **ONLY** the JSON object. Do not include any introductory text, explanations, or markdown formatting like ```json.\n",
      "\n",
      "**JSON SCHEMA TO FOLLOW:**\n",
      "\n",
      "\n",
      "**LEGAL DOCUMENT TO ANALYZE:**\n",
      "[Paste the full text of the legal document here]\n",
      "\n",
      "Why don't scientists trust atoms?\n",
      "\n",
      "Because they make up everything!\n"
     ]
    }
   ],
   "source": [
    "#main\n",
    "if __name__ == \"__main__\":\n",
    "    client = get_gemini_client()\n",
    "    response = client.models.generate_content(\n",
    "      model=\"gemini-2.5-flash\", contents=\"Tell me a joke\"\n",
    "    )\n",
    "\n",
    "    json_schema_context = get_json_context('../../JSONS/baseSchema.json')\n",
    "    #leemos jsonFillPrompt.txt\n",
    "    with open('jsonFillPrompt.txt', 'r', encoding='utf-8') as f:\n",
    "        prompt_template = f.read()\n",
    "        prompt_template = \"**LEGAL DOCUMENT TO ANALYZE:**\\n\"\n",
    "    \n",
    "    contents = [\n",
    "        json_schema_context,\n",
    "        prompt_template\n",
    "    ]\n",
    "\n",
    "    print (\"Prompt Template:\")\n",
    "    print (prompt_template)\n",
    "\n",
    "    print(response.text)"
   ]
  }
 ],
 "metadata": {
  "kernelspec": {
   "display_name": ".venv (3.11.2)",
   "language": "python",
   "name": "python3"
  },
  "language_info": {
   "codemirror_mode": {
    "name": "ipython",
    "version": 3
   },
   "file_extension": ".py",
   "mimetype": "text/x-python",
   "name": "python",
   "nbconvert_exporter": "python",
   "pygments_lexer": "ipython3",
   "version": "3.11.2"
  }
 },
 "nbformat": 4,
 "nbformat_minor": 5
}
