{
 "cells": [
  {
   "cell_type": "code",
   "execution_count": 89,
   "id": "0ea7dacb",
   "metadata": {},
   "outputs": [],
   "source": [
    "import unicodedata\n",
    "import re\n",
    "\n",
    "def clean_text(texto):\n",
    "    texto = texto.lower()\n",
    "    texto = unicodedata.normalize('NFKD', texto).encode('ascii', 'ignore').decode('utf-8')\n",
    "    #texto = re.sub(r'[^a-z0-9\\s]', '', texto)  # elimina puntuación\n",
    "    texto = re.sub(r'\\s+', ' ', texto).strip()  # espacios extra\n",
    "    return texto\n",
    "\n",
    "\n"
   ]
  },
  {
   "cell_type": "code",
   "execution_count": 95,
   "id": "0f967ca2",
   "metadata": {},
   "outputs": [],
   "source": [
    "import re\n",
    "\n",
    "def buscar_patron(texto, etiqueta, patron):\n",
    "    match = re.search(patron, texto, re.IGNORECASE)\n",
    "    if match:\n",
    "        return f\"{etiqueta.upper()}: {match.group(0).strip()}\"\n",
    "    else:\n",
    "        return f\"{etiqueta.upper()}: No disponible\"\n",
    "\n",
    "def extract_metadata(texto):\n",
    "    metadata = {}\n",
    "    metadata['csj'] = buscar_patron(texto, 'csj', r'CSJ\\s*[^\\n\\.]+')\n",
    "    metadata['corte'] = buscar_patron(texto, 'corte', r'CORTE\\s*[^\\n\\.]+')\n",
    "    metadata['provincia'] = buscar_patron(texto, 'provincia', r'BUENOS AIRES\\s*[^\\n\\.]+')\n",
    "    metadata['firma'] = buscar_patron(texto, 'firma', r'FIRMADO\\s*[^\\n\\.]+')\n",
    "    metadata['parte_actora'] = buscar_patron(texto, 'parte_actora', r'PARTE ACTORA\\s*[^\\n\\.]+')\n",
    "    metadata['parte_demandada'] = buscar_patron(texto, 'parte_demandada', r'PARTE DEMANDADA\\s*[^\\n\\.]+')\n",
    "    return metadata\n"
   ]
  },
  {
   "cell_type": "code",
   "execution_count": 91,
   "id": "801c7776",
   "metadata": {},
   "outputs": [],
   "source": [
    "from langchain.text_splitter import RecursiveCharacterTextSplitter\n",
    "\n",
    "def chunk_text(texto):\n",
    "    splitter = RecursiveCharacterTextSplitter(\n",
    "        chunk_size=400,  # tamaño del fragmento\n",
    "        chunk_overlap=50,  # superposición entre fragmentos\n",
    "        separators=[\"\\n\\n\", \"\\n\", \".\", \" \", \"\"]\n",
    "    )\n",
    "    return splitter.split_text(texto)\n"
   ]
  },
  {
   "cell_type": "code",
   "execution_count": 92,
   "id": "65bce004",
   "metadata": {},
   "outputs": [],
   "source": [
    "from sentence_transformers import SentenceTransformer, util\n",
    "modelo = SentenceTransformer('all-MiniLM-L6-v2')\n",
    "\n",
    "\n",
    "def generate_embeddings(corpus):\n",
    "    \"\"\"\n",
    "    Genera embeddings para un corpus de texto.\n",
    "    \"\"\"\n",
    "    return modelo.encode(corpus, convert_to_tensor=True)\n",
    "\n",
    "\n",
    "def query_similarity(consulta, corpus):\n",
    "    \"\"\"\n",
    "    Calcula la similitud entre una consulta y un corpus de texto.\n",
    "    \"\"\"\n",
    "    embedding_consulta = generate_embeddings(consulta)\n",
    "    embeddings_corpus = generate_embeddings(corpus)\n",
    "    \n",
    "    scores = util.cos_sim(embedding_consulta, embeddings_corpus)\n",
    "    \n",
    "    return scores\n",
    "\n"
   ]
  },
  {
   "cell_type": "code",
   "execution_count": 93,
   "id": "dd652323",
   "metadata": {},
   "outputs": [],
   "source": [
    "from PyPDF2 import PdfReader\n",
    "def extract_text_from_pdf(pdf_path):\n",
    "    \n",
    "    reader = PdfReader(pdf_path)\n",
    "    texto = \"\"\n",
    "    for page in reader.pages:\n",
    "        texto += page.extract_text() + \"\\n\"\n",
    "    return texto.strip()"
   ]
  },
  {
   "cell_type": "code",
   "execution_count": 96,
   "id": "6e371edc",
   "metadata": {},
   "outputs": [
    {
     "name": "stdout",
     "output_type": "stream",
     "text": [
      "Metadatos:\n",
      "{'corte': 'CORTE: corte suprema de justicia de la nacion 1vistos los autos: '\n",
      "          \"recursos de hecho deducidos por la actora en la causa 'molina, luis \"\n",
      "          'omar y otros c/ estado nacional - ministerio de justicia seguridad '\n",
      "          'social y derechos humanos y otro s/ personal militar y civil de las '\n",
      "          'ffaa y de seg',\n",
      " 'csj': 'CSJ: csj 6066/2014/rh1 y otros molina, luis omar y otros c/ estado '\n",
      "        'nacional - ministerio de justicia, seguridad social y derechos '\n",
      "        'humanos y otro s/ personal militar y civil de las ffaa y de seg',\n",
      " 'firma': 'FIRMA: No disponible',\n",
      " 'parte_actora': 'PARTE_ACTORA: No disponible',\n",
      " 'parte_demandada': 'PARTE_DEMANDADA: No disponible',\n",
      " 'provincia': 'PROVINCIA: buenos aires, 10 de junio de 2025 2dicten un nuevo '\n",
      "              'pronunciamiento de acuerdo a lo expresado'}\n",
      "csj 6066/2014/rh1 y otros molina, luis omar y otros c/ estado nacional - ministerio de justicia, seguridad social y derechos humanos y otro s/ personal militar y civil de las ffaa y de seg. corte suprema de justicia de la nacion 1vistos los autos: recursos de hecho deducidos por la actora en la causa 'molina, luis omar y otros c/ estado nacional - ministerio -> similitud: 0.23\n",
      "de justicia seguridad social y derechos humanos y otro s/ personal militar y civil de las ffaa y de seg.'; css 55491/2010/1/rh1 'aranda norma nelida y otros c/ min justicia seg y dd hh y otro s/ personal militar y civil de las ffaa y de seg.'; css 68528/2010/1/rh1 'benitez damian y otros c/ min justicia seg y dd hh y otro s/ personal militar -> similitud: 0.22\n",
      "y civil de las ffaa y de seg; css 81217/2011/1/rh1 'mora timoteo y otros c/ ministerio de seguridad y otro s/ , para decidir personal militar y civil de las ffaa y de seg.'\" sobre su procedencia. considerando: que los agravios expresados encuentran adecuada respuesta en los votos concurrentes del tribunal en la causa \"pino\" (fallos: 344:2690), a cuyas -> similitud: 0.31\n",
      "consideraciones y conclusiones corresponde remitir, en lo pertinente, por razon de brevedad. por ello, el tribunal resuelve: 1) hacer lugar a las quejas y declarar procedentes los recursos extraordinarios. 2) revocar parcialmente las sentencias y declarar la inconstitucionalidad del decreto de necesidad y urgencia 679/97. vuelvan los -> similitud: 0.48\n",
      "autos principales al tribunal de origen a fin de que, por quien corresponda,buenos aires, 10 de junio de 2025 2dicten un nuevo pronunciamiento de acuerdo a lo expresado. costas por su orden. notifiquese, agreguense las quejas a los principales y remitanse. -> similitud: 0.34\n"
     ]
    }
   ],
   "source": [
    "from pprint import pprint\n",
    "# main\n",
    "if __name__ == \"__main__\":\n",
    "    texto=\"\"\n",
    "    \"\"\" with open('falloEj2.pdf', 'r', encoding='utf-8') as archivo:\n",
    "        texto = archivo.read() \"\"\"\n",
    "    texto = extract_text_from_pdf('falloEj2.pdf')\n",
    "    texto_limpio = clean_text(texto)\n",
    "    metadatos = extract_metadata(texto_limpio)\n",
    "    chunks = chunk_text(texto)\n",
    "    #limpiamos cada chunk\n",
    "    chunks = [clean_text(chunk) for chunk in chunks]\n",
    "    corpus = chunks  # usamos los fragmentos como corpus\n",
    "    embeddings_corpus = generate_embeddings(corpus)\n",
    "    consulta = \"Revocar sentencias\"\n",
    "    scores = query_similarity(consulta, corpus)\n",
    "\n",
    "    print(\"Metadatos:\")\n",
    "    pprint(metadatos)\n",
    "    # Resultado\n",
    "    for i, score in enumerate(scores[0]):\n",
    "        print(f\"{corpus[i]} -> similitud: {score.item():.2f}\")\n",
    "    \n",
    "        \n",
    "        "
   ]
  }
 ],
 "metadata": {
  "kernelspec": {
   "display_name": "fallosJudiciales",
   "language": "python",
   "name": "python3"
  },
  "language_info": {
   "codemirror_mode": {
    "name": "ipython",
    "version": 3
   },
   "file_extension": ".py",
   "mimetype": "text/x-python",
   "name": "python",
   "nbconvert_exporter": "python",
   "pygments_lexer": "ipython3",
   "version": "3.11.2"
  }
 },
 "nbformat": 4,
 "nbformat_minor": 5
}
